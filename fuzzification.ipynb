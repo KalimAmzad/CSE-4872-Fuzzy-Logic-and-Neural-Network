{
 "cells": [
  {
   "cell_type": "code",
   "execution_count": 1,
   "metadata": {},
   "outputs": [],
   "source": [
    "def open_left(x, alpha, beta):\n",
    "\tif x <= alpha:\n",
    "\t\treturn 1 \n",
    "\n",
    "\telif alpha < x < beta:\n",
    "\t\treturn (beta - x)/ (beta - alpha)\n",
    "\n",
    "\telse:\n",
    "\t\treturn 0"
   ]
  },
  {
   "cell_type": "code",
   "execution_count": 2,
   "metadata": {},
   "outputs": [],
   "source": [
    "def open_right(x, a, b):\n",
    "    if x>= b:\n",
    "        return 1\n",
    "    elif x <= a:\n",
    "        return 0\n",
    "    else:\n",
    "        return (x-a)/(b-a)"
   ]
  },
  {
   "cell_type": "code",
   "execution_count": 4,
   "metadata": {},
   "outputs": [],
   "source": [
    "def triangular(x, a , b, c):\n",
    "    return max(min((x-a)/(b-a), (c-x)/(c-b)),0)"
   ]
  },
  {
   "cell_type": "code",
   "execution_count": 7,
   "metadata": {},
   "outputs": [],
   "source": [
    "def fuzzifying(x):\n",
    "    '''\n",
    "    input x -> need to find the membership value for x\n",
    "    return -> which function it touches and what's the membership value\n",
    "    '''\n",
    "    NL, NM, NS, ZE, PS, PM, PL = 0, 0, 0, 0, 0, 0, 0\n",
    "    \n",
    "    if x >= 0 and x <= 60:\n",
    "        NL = open_left(x, 30, 60)\n",
    "        \n",
    "    if x >= 30 and x <= 90:\n",
    "        NM = triangular(x, 30, 60, 90)\n",
    "        \n",
    "    if x>= 60 and x <= 120:\n",
    "        NS = triangular(x, 60, 90, 120)\n",
    "        \n",
    "    if x >= 90 and x <= 150:\n",
    "        ZE = triangular(x, 90, 120, 150)\n",
    "        \n",
    "    if x>= 120 and x <= 180:\n",
    "        PS = triangular(x, 120, 150, 180)\n",
    "        \n",
    "    if x >= 150 and x <= 210:\n",
    "        PM = triangular(x, 150, 180, 210)\n",
    "        \n",
    "    if x>= 180 and x <= 210:\n",
    "        PL = open_right(x, 180, 210)\n",
    "        \n",
    "    return  NL, NM, NS, ZE, PS, PM, PL\n",
    "        "
   ]
  },
  {
   "cell_type": "code",
   "execution_count": 15,
   "metadata": {
    "scrolled": true
   },
   "outputs": [
    {
     "name": "stdout",
     "output_type": "stream",
     "text": [
      "0 0.3333333333333333 0.6666666666666666 0 0 0 0\n"
     ]
    }
   ],
   "source": [
    "# speed difference = 80\n",
    "NL, NM, NS, ZE, PS, PM, PL = fuzzifying(80)\n",
    "print(NL, NM, NS, ZE, PS, PM, PL)"
   ]
  },
  {
   "cell_type": "code",
   "execution_count": 12,
   "metadata": {},
   "outputs": [
    {
     "name": "stdout",
     "output_type": "stream",
     "text": [
      "0 0 0.5 0.5 0 0 0\n"
     ]
    }
   ],
   "source": [
    "# accelaration difference = 105\n",
    "NL, NM, NS, ZE, PS, PM, PL = fuzzifying(105)\n",
    "print(NL, NM, NS, ZE, PS, PM, PL)"
   ]
  },
  {
   "cell_type": "code",
   "execution_count": null,
   "metadata": {},
   "outputs": [],
   "source": []
  }
 ],
 "metadata": {
  "kernelspec": {
   "display_name": "Python 3",
   "language": "python",
   "name": "python3"
  },
  "language_info": {
   "codemirror_mode": {
    "name": "ipython",
    "version": 3
   },
   "file_extension": ".py",
   "mimetype": "text/x-python",
   "name": "python",
   "nbconvert_exporter": "python",
   "pygments_lexer": "ipython3",
   "version": "3.8.5"
  }
 },
 "nbformat": 4,
 "nbformat_minor": 4
}
