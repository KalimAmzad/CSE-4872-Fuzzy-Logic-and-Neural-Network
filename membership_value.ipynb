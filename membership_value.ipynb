{
 "cells": [
  {
   "cell_type": "code",
   "execution_count": 24,
   "metadata": {},
   "outputs": [],
   "source": [
    "def open_left(x, alpha, beta):\n",
    "\tif x <= alpha:\n",
    "\t\treturn 1 \n",
    "\n",
    "\telif alpha < x < beta:\n",
    "\t\treturn (beta - x)/ (beta - alpha)\n",
    "\n",
    "\telse:\n",
    "\t\treturn 0"
   ]
  },
  {
   "cell_type": "code",
   "execution_count": 7,
   "metadata": {},
   "outputs": [
    {
     "name": "stdout",
     "output_type": "stream",
     "text": [
      "Enter your x value: -30\n",
      "open_left membership value for -30: 1\n"
     ]
    }
   ],
   "source": [
    "x = int(input('Enter your x value: '))\n",
    "result = open_left(x, 30, 50)\n",
    "\n",
    "print(f\"open_left membership value for {x}: {result}\")"
   ]
  },
  {
   "cell_type": "code",
   "execution_count": 21,
   "metadata": {},
   "outputs": [],
   "source": [
    "def open_right(x, a, b):\n",
    "    if x>= b:\n",
    "        return 1\n",
    "    elif x <= a:\n",
    "        return 0\n",
    "    else:\n",
    "        return (x-a)/(b-a)"
   ]
  },
  {
   "cell_type": "code",
   "execution_count": 25,
   "metadata": {},
   "outputs": [
    {
     "name": "stdout",
     "output_type": "stream",
     "text": [
      "Enter your x value: 45\n",
      "open_right membership value for 45: 0.75\n"
     ]
    }
   ],
   "source": [
    "x = int(input('Enter your x value: '))\n",
    "result = open_right(x, 30, 50)\n",
    "\n",
    "print(f\"open_right membership value for {x}: {result}\")"
   ]
  },
  {
   "cell_type": "code",
   "execution_count": 26,
   "metadata": {},
   "outputs": [],
   "source": [
    "def triangular(x, a, b, c):\n",
    "    if x <= a or x >= c:\n",
    "        return 0\n",
    "    elif a <x < b:\n",
    "        return (x-a) / (b-a)\n",
    "    else:\n",
    "        return (c-x) / (c-b)   "
   ]
  },
  {
   "cell_type": "code",
   "execution_count": 27,
   "metadata": {},
   "outputs": [
    {
     "name": "stdout",
     "output_type": "stream",
     "text": [
      "Enter your x value: 70\n",
      "triangular membership value for 70: 0.3333333333333333\n"
     ]
    }
   ],
   "source": [
    "x = int(input('Enter your x value: '))\n",
    "result = triangular(x, 30, 50, 80)\n",
    "\n",
    "print(f\"triangular membership value for {x}: {result}\")"
   ]
  },
  {
   "cell_type": "code",
   "execution_count": 28,
   "metadata": {},
   "outputs": [],
   "source": [
    "def triangular_simple(x, a , b, c):\n",
    "    return max(min((x-a)/(b-a), (c-x)/(c-b)),0)"
   ]
  },
  {
   "cell_type": "code",
   "execution_count": 29,
   "metadata": {},
   "outputs": [
    {
     "name": "stdout",
     "output_type": "stream",
     "text": [
      "Enter your x value: 70\n",
      "triangular_simple membership value for 70: 0.3333333333333333\n"
     ]
    }
   ],
   "source": [
    "x = int(input('Enter your x value: '))\n",
    "result = triangular_simple(x, 30, 50, 80)\n",
    "\n",
    "print(f\"triangular_simple membership value for {x}: {result}\")"
   ]
  },
  {
   "cell_type": "code",
   "execution_count": null,
   "metadata": {},
   "outputs": [],
   "source": []
  }
 ],
 "metadata": {
  "kernelspec": {
   "display_name": "Python 3",
   "language": "python",
   "name": "python3"
  },
  "language_info": {
   "codemirror_mode": {
    "name": "ipython",
    "version": 3
   },
   "file_extension": ".py",
   "mimetype": "text/x-python",
   "name": "python",
   "nbconvert_exporter": "python",
   "pygments_lexer": "ipython3",
   "version": "3.8.5"
  }
 },
 "nbformat": 4,
 "nbformat_minor": 4
}
