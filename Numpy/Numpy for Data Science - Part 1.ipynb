{
 "cells": [
  {
   "cell_type": "markdown",
   "metadata": {},
   "source": [
    "# Numpy\n",
    "NumPy is a library for the Python programming language, adding support for large, multi-dimensional arrays and matrices, along with a large collection of high-level mathematical functions to operate on these arrays [[1]](https://en.wikipedia.org/wiki/NumPy). <br>\n",
    "\n",
    "NumPy is, just like SciPy, Scikit-Learn, Pandas, etc. one of the packages that you just can’t miss when you’re learning data science, mainly because this library provides you with an array data structure that holds some benefits over Python lists, such as: being more compact, faster access in reading and writing items, being more convenient and more efficient [[2]](https://www.datacamp.com/community/tutorials/python-numpy-tutorial). "
   ]
  },
  {
   "cell_type": "markdown",
   "metadata": {},
   "source": [
    "### Resources\n",
    "1. [Numpy Documentation](https://docs.scipy.org/doc/numpy/user/quickstart.html)\n",
    "2. [Scipy Lecture Notes](http://www.scipy-lectures.org/)\n",
    "3. [Python Data Science Handbook](https://www.amazon.com/Python-Data-Science-Handbook-Essential/dp/1491912057)\n",
    "3. [NumPy Data Science Essential Training](https://www.lynda.com/NumPy-tutorials/NumPy-Data-Science-Essential-Training/508873-2.html)"
   ]
  },
  {
   "cell_type": "code",
   "execution_count": 1,
   "metadata": {},
   "outputs": [],
   "source": [
    "import numpy as np"
   ]
  },
  {
   "cell_type": "markdown",
   "metadata": {},
   "source": [
    "## Difference between python list & numpy array"
   ]
  },
  {
   "cell_type": "code",
   "execution_count": 115,
   "metadata": {},
   "outputs": [
    {
     "name": "stdout",
     "output_type": "stream",
     "text": [
      "[3, 4, 5, 3, 4, 5, 3, 4, 5]\n",
      "[ 9 12 15]\n"
     ]
    }
   ],
   "source": [
    "my_list = [3, 4, 5]\n",
    "print(my_list*3)\n",
    "\n",
    "my_np_list = np.array(my_list)\n",
    "print(my_np_list*3)"
   ]
  },
  {
   "cell_type": "markdown",
   "metadata": {},
   "source": [
    "## 1. Creating Array\n",
    "        A. Manual\n",
    "        B. With Function"
   ]
  },
  {
   "cell_type": "markdown",
   "metadata": {},
   "source": [
    "### A. Manually"
   ]
  },
  {
   "cell_type": "code",
   "execution_count": 7,
   "metadata": {},
   "outputs": [
    {
     "name": "stdout",
     "output_type": "stream",
     "text": [
      "1D Array: [1 2 3 4 5]\n",
      "Dimension:  1\n",
      "Shape: (5,)\n",
      "Size: 5\n",
      "Data Type: int32\n",
      "Bytes: 20\n"
     ]
    }
   ],
   "source": [
    "# 1D array\n",
    "manual_1d_arr = np.array([1, 2, 3, 4, 5])\n",
    "print(\"1D Array:\", manual_1d_arr)\n",
    "\n",
    "# Attributes\n",
    "print(\"Dimension: \", manual_1d_arr.ndim)\n",
    "print(\"Shape:\", manual_1d_arr.shape)\n",
    "print(\"Size:\", manual_1d_arr.size) # alternative: len(manual_1D_arr)\n",
    "print(\"Data Type:\", manual_1d_arr.dtype)\n",
    "print(\"Bytes:\", manual_1d_arr.nbytes)"
   ]
  },
  {
   "cell_type": "code",
   "execution_count": 14,
   "metadata": {},
   "outputs": [
    {
     "name": "stdout",
     "output_type": "stream",
     "text": [
      "2D Array:\n",
      " [[1 2 3]\n",
      " [4 5 6]]\n",
      "Dimension:  2\n",
      "Shape: (2, 3)\n",
      "Size: 6\n"
     ]
    }
   ],
   "source": [
    "# 2D array\n",
    "manual_2d_arr = np.array([[1, 2, 3] ,\n",
    "                          [4, 5, 6]]) # 2 X 3 array\n",
    "print(\"2D Array:\\n\", manual_2d_arr)\n",
    "print(\"Dimension: \", manual_2d_arr.ndim)\n",
    "print(\"Shape:\", manual_2d_arr.shape)\n",
    "print(\"Size:\", manual_2d_arr.size)"
   ]
  },
  {
   "cell_type": "code",
   "execution_count": 20,
   "metadata": {},
   "outputs": [
    {
     "name": "stdout",
     "output_type": "stream",
     "text": [
      "3D Array:\n",
      " [[[1 2 3]\n",
      "  [4 5 6]]\n",
      "\n",
      " [[7 8 9]\n",
      "  [2 3 4]]]\n",
      "Dimension:  3\n",
      "Shape: (2, 2, 3)\n",
      "Size: 12\n"
     ]
    }
   ],
   "source": [
    "# 3D array\n",
    "manual_3d_arr = np.array([[[1, 2, 3] , \n",
    "                           [4, 5, 6]],\n",
    "                          \n",
    "                         [[7, 8, 9],\n",
    "                         [2, 3, 4]]]) # 2 X 2 X 3 array\n",
    "print(\"3D Array:\\n\", manual_3d_arr)\n",
    "print(\"Dimension: \", manual_3d_arr.ndim)\n",
    "print(\"Shape:\", manual_3d_arr.shape)\n",
    "print(\"Size:\", manual_3d_arr.size)"
   ]
  },
  {
   "cell_type": "markdown",
   "metadata": {},
   "source": [
    "### B. With Function"
   ]
  },
  {
   "cell_type": "code",
   "execution_count": 5,
   "metadata": {},
   "outputs": [
    {
     "name": "stdout",
     "output_type": "stream",
     "text": [
      "[ 0  1  2  3  4  5  6  7  8  9 10 11]\n",
      "[[[ 0  1]\n",
      "  [ 2  3]]\n",
      "\n",
      " [[ 4  5]\n",
      "  [ 6  7]]\n",
      "\n",
      " [[ 8  9]\n",
      "  [10 11]]]\n",
      "[4 5 6 7 8 9]\n",
      "[ 1  3  5  7  9 11 13 15]\n"
     ]
    }
   ],
   "source": [
    "arange_arr = np.arange(12)\n",
    "print(arange_arr)\n",
    "arange_arr.shape = (3, 2, 2)\n",
    "print(arange_arr)\n",
    "\n",
    "arange_arr_2 = np.arange(4, 10)\n",
    "print(arange_arr_2)\n",
    "\n",
    "arange_arr_3 = np.arange(1, 16, 2)\n",
    "print(arange_arr_3)\n"
   ]
  },
  {
   "cell_type": "code",
   "execution_count": 125,
   "metadata": {},
   "outputs": [
    {
     "name": "stdout",
     "output_type": "stream",
     "text": [
      "(array([ 1. ,  1.4,  1.8,  2.2,  2.6,  3. ]), 0.4)\n",
      "(array([ 1. ,  1.4,  1.8,  2.2,  2.6]), 0.4)\n"
     ]
    }
   ],
   "source": [
    "linspace_arr = np.linspace(1, 3, 6, retstep=True)\n",
    "#linspace_arr.shape = (3,2)\n",
    "print(linspace_arr)\n",
    "\n",
    "linspace_arr_2 = np.linspace(1, 3, 5, retstep=True, endpoint = False)\n",
    "print(linspace_arr_2)"
   ]
  },
  {
   "cell_type": "code",
   "execution_count": 47,
   "metadata": {},
   "outputs": [
    {
     "data": {
      "text/plain": [
       "array([[ 1.,  1.,  1.],\n",
       "       [ 1.,  1.,  1.],\n",
       "       [ 1.,  1.,  1.]])"
      ]
     },
     "execution_count": 47,
     "metadata": {},
     "output_type": "execute_result"
    }
   ],
   "source": [
    "ones_arr = np.ones((3, 3))\n",
    "ones_arr\n"
   ]
  },
  {
   "cell_type": "code",
   "execution_count": 51,
   "metadata": {},
   "outputs": [
    {
     "data": {
      "text/plain": [
       "array([[0, 0, 0],\n",
       "       [0, 0, 0]], dtype=int64)"
      ]
     },
     "execution_count": 51,
     "metadata": {},
     "output_type": "execute_result"
    }
   ],
   "source": [
    "zeros_arr = np.zeros((2,3), dtype=\"int64\")\n",
    "zeros_arr"
   ]
  },
  {
   "cell_type": "code",
   "execution_count": 68,
   "metadata": {
    "scrolled": true
   },
   "outputs": [
    {
     "data": {
      "text/plain": [
       "array([[ 1.,  0.,  0.,  0.],\n",
       "       [ 0.,  1.,  0.,  0.],\n",
       "       [ 0.,  0.,  1.,  0.],\n",
       "       [ 0.,  0.,  0.,  1.]])"
      ]
     },
     "execution_count": 68,
     "metadata": {},
     "output_type": "execute_result"
    }
   ],
   "source": [
    "eye_arr = np.eye(4)\n",
    "eye_arr"
   ]
  },
  {
   "cell_type": "code",
   "execution_count": 70,
   "metadata": {},
   "outputs": [
    {
     "name": "stdout",
     "output_type": "stream",
     "text": [
      "[[0 0 0 0 0]\n",
      " [1 0 0 0 0]\n",
      " [0 2 0 0 0]\n",
      " [0 0 3 0 0]\n",
      " [0 0 0 4 0]]\n",
      "[1 4]\n"
     ]
    }
   ],
   "source": [
    "diag_arr = np.diag([1, 2, 3, 4], k=-1)\n",
    "print(diag_arr)\n",
    "\n",
    "diag_arr_2 = np.diag([[1, 2], [3, 4]], k=0)\n",
    "print(diag_arr_2)"
   ]
  },
  {
   "cell_type": "code",
   "execution_count": 103,
   "metadata": {},
   "outputs": [
    {
     "name": "stdout",
     "output_type": "stream",
     "text": [
      "[[ 0.29197057  0.85226147  0.31941841]\n",
      " [ 0.69046799  0.31405125  0.80304581]]\n",
      "[[ 1.40502016  0.92247386 -0.79916696]\n",
      " [-0.42604631 -1.1249454   2.14776526]]\n"
     ]
    }
   ],
   "source": [
    "random_arr = np.random.rand(2, 3) # uniform in [0, 1]\n",
    "print(random_arr)\n",
    "\n",
    "random_arr_2 = np.random.randn(2, 3) # Gaussian\n",
    "print(random_arr_2)\n"
   ]
  },
  {
   "cell_type": "markdown",
   "metadata": {},
   "source": [
    "## 2. Indexing & Slicing"
   ]
  },
  {
   "cell_type": "code",
   "execution_count": 152,
   "metadata": {},
   "outputs": [
    {
     "name": "stdout",
     "output_type": "stream",
     "text": [
      "[5 6 7 8 9]\n",
      "8\n",
      "8\n",
      "[6 7]\n",
      "[5 7 9]\n",
      "[ 5  6  7  8 15]\n",
      "[ 1  2  3  8 15]\n"
     ]
    }
   ],
   "source": [
    "# 1D array\n",
    "arange_arr = np.arange(5, 10)\n",
    "print(arange_arr)\n",
    "\n",
    "print(arange_arr[3]) # 4th element as 0-base indexing\n",
    "print(arange_arr[-2]) # 2nd last element\n",
    "print(arange_arr[1:3]) # Last index is exculded\n",
    "print(arange_arr[::2])\n",
    "\n",
    "arange_arr[-1] = 15 # mutable\n",
    "print(arange_arr)\n",
    "arange_arr[0:3] = [1, 2, 3]\n",
    "print(arange_arr)"
   ]
  },
  {
   "cell_type": "code",
   "execution_count": 221,
   "metadata": {
    "scrolled": true
   },
   "outputs": [
    {
     "name": "stdout",
     "output_type": "stream",
     "text": [
      "[[ 0  1  2]\n",
      " [ 3  4  5]\n",
      " [ 6  7  8]\n",
      " [ 9 10 11]]\n",
      "[3 4 5]\n",
      "5\n",
      "5\n",
      "[[1 2]\n",
      " [4 5]]\n",
      "[[ 1  2]\n",
      " [ 4  5]\n",
      " [ 7  8]\n",
      " [10 11]]\n",
      "[[0 1]\n",
      " [3 4]\n",
      " [6 7]]\n",
      "[[ 3  5]\n",
      " [ 6  8]\n",
      " [ 9 11]]\n"
     ]
    }
   ],
   "source": [
    "#2D array\n",
    "arange_arr = np.arange(12)\n",
    "arange_arr.shape = (4,3)\n",
    "print(arange_arr)\n",
    "\n",
    "# arange_arr(row, col)  ---- Basic format\n",
    "print(arange_arr[1])\n",
    "print(arange_arr[1][2])\n",
    "print(arange_arr[1,2]) # alternative format of previous one\n",
    "print(arange_arr[0:2, 1:3])\n",
    "print(arange_arr[:, 1:3])\n",
    "print(arange_arr[0:3, :2])\n",
    "print(arange_arr[1:, [0, 2]]) # Indexing with an array of integers (discreat)"
   ]
  },
  {
   "cell_type": "code",
   "execution_count": 162,
   "metadata": {},
   "outputs": [
    {
     "data": {
      "text/plain": [
       "array([[ 0,  1,  2,  3,  4,  5],\n",
       "       [10, 11, 12, 13, 14, 15],\n",
       "       [20, 21, 22, 23, 24, 25],\n",
       "       [30, 31, 32, 33, 34, 35],\n",
       "       [40, 41, 42, 43, 44, 45],\n",
       "       [50, 51, 52, 53, 54, 55]])"
      ]
     },
     "execution_count": 162,
     "metadata": {},
     "output_type": "execute_result"
    }
   ],
   "source": [
    "np.arange(6) + np.arange(0, 51, 10)[:, np.newaxis]"
   ]
  },
  {
   "cell_type": "markdown",
   "metadata": {},
   "source": [
    "## Some graphicle example\n",
    "![Graphical example of numpy slicing](numpy_indexing.png)\n",
    "**[Source](http://www.scipy-lectures.org/_images/numpy_indexing.png)**"
   ]
  },
  {
   "cell_type": "markdown",
   "metadata": {},
   "source": [
    "## Exercise\n",
    "### Extract the elements indicated in the following figure\n",
    "![Exercise](slicing_exercise.png)\n"
   ]
  },
  {
   "cell_type": "code",
   "execution_count": 150,
   "metadata": {},
   "outputs": [
    {
     "name": "stdout",
     "output_type": "stream",
     "text": [
      "[[[ 0  1  2  3  4]\n",
      "  [ 5  6  7  8  9]\n",
      "  [10 11 12 13 14]\n",
      "  [15 16 17 18 19]]\n",
      "\n",
      " [[20 21 22 23 24]\n",
      "  [25 26 27 28 29]\n",
      "  [30 31 32 33 34]\n",
      "  [35 36 37 38 39]]]\n",
      "[[20 21 22 23 24]\n",
      " [25 26 27 28 29]\n",
      " [30 31 32 33 34]\n",
      " [35 36 37 38 39]]\n",
      "[30 31 32 33 34]\n",
      "[[[32 33 34]\n",
      "  [37 38 39]]]\n"
     ]
    }
   ],
   "source": [
    "#3D array\n",
    "arange_arr = np.arange(40)\n",
    "arange_arr.shape = (2,4,5)\n",
    "print(arange_arr)\n",
    "\n",
    "print(arange_arr[1])\n",
    "print(arange_arr[1,2])\n",
    "print(arange_arr[1:, 2:, 2:5])"
   ]
  },
  {
   "cell_type": "markdown",
   "metadata": {},
   "source": [
    "### Boolean Mask"
   ]
  },
  {
   "cell_type": "code",
   "execution_count": 6,
   "metadata": {},
   "outputs": [
    {
     "name": "stdout",
     "output_type": "stream",
     "text": [
      "[ 6  9 -6 -3 -3  1  3 13 12 -2]\n"
     ]
    }
   ],
   "source": [
    "np.random.seed(0)\n",
    "rand_arr = np.random.randint(-6, 14, 10)\n",
    "print(rand_arr)"
   ]
  },
  {
   "cell_type": "code",
   "execution_count": 8,
   "metadata": {},
   "outputs": [
    {
     "data": {
      "text/plain": [
       "array([ True,  True, False, False, False,  True,  True,  True,  True,\n",
       "       False])"
      ]
     },
     "execution_count": 8,
     "metadata": {},
     "output_type": "execute_result"
    }
   ],
   "source": [
    "postitive_mask = rand_arr>0\n",
    "postitive_mask"
   ]
  },
  {
   "cell_type": "code",
   "execution_count": 9,
   "metadata": {},
   "outputs": [
    {
     "data": {
      "text/plain": [
       "array([ 6,  9,  1,  3, 13, 12])"
      ]
     },
     "execution_count": 9,
     "metadata": {},
     "output_type": "execute_result"
    }
   ],
   "source": [
    "rand_arr[postitive_mask]"
   ]
  },
  {
   "cell_type": "code",
   "execution_count": 236,
   "metadata": {},
   "outputs": [
    {
     "data": {
      "text/plain": [
       "array([ True,  True,  True,  True,  True, False,  True, False,  True, False], dtype=bool)"
      ]
     },
     "execution_count": 236,
     "metadata": {},
     "output_type": "execute_result"
    }
   ],
   "source": [
    "divide_3_mask = (rand_arr%3) == 0\n",
    "divide_3_mask"
   ]
  },
  {
   "cell_type": "code",
   "execution_count": 237,
   "metadata": {},
   "outputs": [
    {
     "data": {
      "text/plain": [
       "array([ 6,  9, -6, -3, -3,  3, 12])"
      ]
     },
     "execution_count": 237,
     "metadata": {},
     "output_type": "execute_result"
    }
   ],
   "source": [
    "rand_arr[divide_3_mask]"
   ]
  },
  {
   "cell_type": "code",
   "execution_count": 238,
   "metadata": {},
   "outputs": [
    {
     "data": {
      "text/plain": [
       "array([ True,  True, False, False, False,  True,  True,  True,  True, False], dtype=bool)"
      ]
     },
     "execution_count": 238,
     "metadata": {},
     "output_type": "execute_result"
    }
   ],
   "source": [
    "positive_mask = rand_arr > 0\n",
    "positive_mask"
   ]
  },
  {
   "cell_type": "code",
   "execution_count": 239,
   "metadata": {},
   "outputs": [
    {
     "data": {
      "text/plain": [
       "array([ 6,  9,  1,  3, 13, 12])"
      ]
     },
     "execution_count": 239,
     "metadata": {},
     "output_type": "execute_result"
    }
   ],
   "source": [
    "rand_arr[positive_mask]"
   ]
  },
  {
   "cell_type": "code",
   "execution_count": 241,
   "metadata": {},
   "outputs": [
    {
     "data": {
      "text/plain": [
       "array([ 6,  9,  3, 12])"
      ]
     },
     "execution_count": 241,
     "metadata": {},
     "output_type": "execute_result"
    }
   ],
   "source": [
    "combined_mask = np.logical_and(positive_mask, divide_3_mask)\n",
    "rand_arr[combined_mask]"
   ]
  },
  {
   "cell_type": "code",
   "execution_count": 240,
   "metadata": {},
   "outputs": [
    {
     "data": {
      "text/plain": [
       "array([ 6,  9,  3, 12])"
      ]
     },
     "execution_count": 240,
     "metadata": {},
     "output_type": "execute_result"
    }
   ],
   "source": [
    "rand_arr[positive_mask & divide_3_mask] "
   ]
  },
  {
   "cell_type": "markdown",
   "metadata": {},
   "source": [
    "**Other Operators**\n",
    "![operator](operator.png)"
   ]
  },
  {
   "cell_type": "markdown",
   "metadata": {},
   "source": [
    "## Some graphicle example\n",
    "![Graphical example of numpy slicing](fancy_indexing.png)"
   ]
  },
  {
   "cell_type": "markdown",
   "metadata": {},
   "source": [
    "## Exercise\n",
    "### 1. Extract the blue elements indicated in the following figure\n",
    "### 2. Extract all elements divisible by 3 using boolean mask\n",
    "![Exercise](masking_exercise.png)\n"
   ]
  },
  {
   "cell_type": "markdown",
   "metadata": {},
   "source": [
    "## 3. Copy & View"
   ]
  },
  {
   "cell_type": "code",
   "execution_count": 173,
   "metadata": {},
   "outputs": [
    {
     "name": "stdout",
     "output_type": "stream",
     "text": [
      "Original: [0 1 2 3 4 5 6 7 8 9]\n",
      "Copied: [0 1 2 3 4 5 6 7 8 9]\n"
     ]
    }
   ],
   "source": [
    "original_arr = np.arange(10)\n",
    "print(\"Original:\", original_arr)\n",
    "\n",
    "copied_arr = original_arr\n",
    "print(\"Copied:\", copied_arr)"
   ]
  },
  {
   "cell_type": "markdown",
   "metadata": {},
   "source": [
    "### Same or Different"
   ]
  },
  {
   "cell_type": "code",
   "execution_count": 174,
   "metadata": {},
   "outputs": [
    {
     "data": {
      "text/plain": [
       "True"
      ]
     },
     "execution_count": 174,
     "metadata": {},
     "output_type": "execute_result"
    }
   ],
   "source": [
    "#reference equilaty\n",
    "original_arr is copied_arr"
   ]
  },
  {
   "cell_type": "code",
   "execution_count": 175,
   "metadata": {},
   "outputs": [
    {
     "data": {
      "text/plain": [
       "2524491897312"
      ]
     },
     "execution_count": 175,
     "metadata": {},
     "output_type": "execute_result"
    }
   ],
   "source": [
    "id(original_arr)"
   ]
  },
  {
   "cell_type": "code",
   "execution_count": 176,
   "metadata": {},
   "outputs": [
    {
     "data": {
      "text/plain": [
       "2524491897312"
      ]
     },
     "execution_count": 176,
     "metadata": {},
     "output_type": "execute_result"
    }
   ],
   "source": [
    "id(copied_arr)"
   ]
  },
  {
   "cell_type": "code",
   "execution_count": 179,
   "metadata": {},
   "outputs": [
    {
     "data": {
      "text/plain": [
       "array([ True,  True,  True,  True,  True,  True,  True,  True,  True,  True], dtype=bool)"
      ]
     },
     "execution_count": 179,
     "metadata": {},
     "output_type": "execute_result"
    }
   ],
   "source": [
    "#value equality\n",
    "original_arr == copied_arr"
   ]
  },
  {
   "cell_type": "code",
   "execution_count": 177,
   "metadata": {},
   "outputs": [
    {
     "data": {
      "text/plain": [
       "array([3, 1, 2, 3, 4, 5, 6, 7, 8, 9])"
      ]
     },
     "execution_count": 177,
     "metadata": {},
     "output_type": "execute_result"
    }
   ],
   "source": [
    "copied_arr[0] = 3\n",
    "original_arr"
   ]
  },
  {
   "cell_type": "code",
   "execution_count": 178,
   "metadata": {},
   "outputs": [
    {
     "data": {
      "text/plain": [
       "True"
      ]
     },
     "execution_count": 178,
     "metadata": {},
     "output_type": "execute_result"
    }
   ],
   "source": [
    "np.may_share_memory(original_arr, copied_arr)"
   ]
  },
  {
   "cell_type": "markdown",
   "metadata": {},
   "source": [
    "### View"
   ]
  },
  {
   "cell_type": "code",
   "execution_count": 192,
   "metadata": {},
   "outputs": [
    {
     "data": {
      "text/plain": [
       "array([[88, 91, 82],\n",
       "       [89, 95, 85]])"
      ]
     },
     "execution_count": 192,
     "metadata": {},
     "output_type": "execute_result"
    }
   ],
   "source": [
    "raw_marks = np.array([88, 91, 82, 89, 95, 85])\n",
    "final_marks = raw_marks.view()\n",
    "final_marks.shape = (2, 3)\n",
    "final_marks"
   ]
  },
  {
   "cell_type": "code",
   "execution_count": 183,
   "metadata": {},
   "outputs": [
    {
     "data": {
      "text/plain": [
       "array([88, 91, 82, 89, 95, 85])"
      ]
     },
     "execution_count": 183,
     "metadata": {},
     "output_type": "execute_result"
    }
   ],
   "source": [
    "raw_marks"
   ]
  },
  {
   "cell_type": "code",
   "execution_count": 188,
   "metadata": {},
   "outputs": [
    {
     "data": {
      "text/plain": [
       "array([[88, 91, 82],\n",
       "       [89, 95, 93]])"
      ]
     },
     "execution_count": 188,
     "metadata": {},
     "output_type": "execute_result"
    }
   ],
   "source": [
    "final_marks[1,2] = 93\n",
    "final_marks"
   ]
  },
  {
   "cell_type": "code",
   "execution_count": 186,
   "metadata": {},
   "outputs": [
    {
     "data": {
      "text/plain": [
       "array([88, 91, 82, 89, 95, 93])"
      ]
     },
     "execution_count": 186,
     "metadata": {},
     "output_type": "execute_result"
    }
   ],
   "source": [
    "raw_marks"
   ]
  },
  {
   "cell_type": "code",
   "execution_count": 191,
   "metadata": {},
   "outputs": [
    {
     "data": {
      "text/plain": [
       "True"
      ]
     },
     "execution_count": 191,
     "metadata": {},
     "output_type": "execute_result"
    }
   ],
   "source": [
    "np.may_share_memory(raw_marks, final_marks)"
   ]
  },
  {
   "cell_type": "markdown",
   "metadata": {},
   "source": [
    "### Copy"
   ]
  },
  {
   "cell_type": "code",
   "execution_count": 195,
   "metadata": {},
   "outputs": [
    {
     "data": {
      "text/plain": [
       "array([[88, 91, 82],\n",
       "       [89, 95, 85]])"
      ]
     },
     "execution_count": 195,
     "metadata": {},
     "output_type": "execute_result"
    }
   ],
   "source": [
    "raw_marks = np.array([88, 91, 82, 89, 95, 85])\n",
    "#final_marks = raw_marks.copy()\n",
    "final_marks = np.copy(raw_marks)\n",
    "final_marks.shape = (2, 3)\n",
    "final_marks"
   ]
  },
  {
   "cell_type": "code",
   "execution_count": 196,
   "metadata": {},
   "outputs": [
    {
     "data": {
      "text/plain": [
       "False"
      ]
     },
     "execution_count": 196,
     "metadata": {},
     "output_type": "execute_result"
    }
   ],
   "source": [
    "np.may_share_memory(raw_marks, final_marks)"
   ]
  },
  {
   "cell_type": "markdown",
   "metadata": {},
   "source": [
    "### A practical example: Sieve of erothesthenus"
   ]
  },
  {
   "cell_type": "code",
   "execution_count": 213,
   "metadata": {},
   "outputs": [
    {
     "data": {
      "text/plain": [
       "1"
      ]
     },
     "execution_count": 213,
     "metadata": {},
     "output_type": "execute_result"
    }
   ],
   "source": [
    "is_prime = np.ones((100,), dtype=bool)\n",
    "is_prime.ndim"
   ]
  },
  {
   "cell_type": "code",
   "execution_count": 214,
   "metadata": {},
   "outputs": [
    {
     "data": {
      "text/plain": [
       "array([False, False,  True,  True,  True,  True,  True,  True,  True,\n",
       "        True,  True,  True,  True,  True,  True,  True,  True,  True,\n",
       "        True,  True,  True,  True,  True,  True,  True,  True,  True,\n",
       "        True,  True,  True,  True,  True,  True,  True,  True,  True,\n",
       "        True,  True,  True,  True,  True,  True,  True,  True,  True,\n",
       "        True,  True,  True,  True,  True,  True,  True,  True,  True,\n",
       "        True,  True,  True,  True,  True,  True,  True,  True,  True,\n",
       "        True,  True,  True,  True,  True,  True,  True,  True,  True,\n",
       "        True,  True,  True,  True,  True,  True,  True,  True,  True,\n",
       "        True,  True,  True,  True,  True,  True,  True,  True,  True,\n",
       "        True,  True,  True,  True,  True,  True,  True,  True,  True,  True], dtype=bool)"
      ]
     },
     "execution_count": 214,
     "metadata": {},
     "output_type": "execute_result"
    }
   ],
   "source": [
    "is_prime[:2] = False # 0, 1 is not prime\n",
    "is_prime"
   ]
  },
  {
   "cell_type": "code",
   "execution_count": 215,
   "metadata": {
    "collapsed": true
   },
   "outputs": [],
   "source": [
    "N_max = int(np.sqrt(len(is_prime) - 1))\n",
    "for i in range(2, N_max + 1):\n",
    "    is_prime[i*2::i] = False"
   ]
  },
  {
   "cell_type": "code",
   "execution_count": 219,
   "metadata": {},
   "outputs": [
    {
     "data": {
      "text/plain": [
       "(array([ 2,  3,  5,  7, 11, 13, 17, 19, 23, 29, 31, 37, 41, 43, 47, 53, 59,\n",
       "        61, 67, 71, 73, 79, 83, 89, 97], dtype=int64),)"
      ]
     },
     "execution_count": 219,
     "metadata": {},
     "output_type": "execute_result"
    }
   ],
   "source": [
    "np.nonzero(is_prime)"
   ]
  },
  {
   "cell_type": "code",
   "execution_count": 242,
   "metadata": {
    "collapsed": true
   },
   "outputs": [],
   "source": [
    "x, y = np.arange(5), np.arange(5)[:, np.newaxis]"
   ]
  },
  {
   "cell_type": "code",
   "execution_count": 243,
   "metadata": {},
   "outputs": [
    {
     "data": {
      "text/plain": [
       "array([0, 1, 2, 3, 4])"
      ]
     },
     "execution_count": 243,
     "metadata": {},
     "output_type": "execute_result"
    }
   ],
   "source": [
    "x"
   ]
  },
  {
   "cell_type": "code",
   "execution_count": 244,
   "metadata": {},
   "outputs": [
    {
     "data": {
      "text/plain": [
       "array([[0],\n",
       "       [1],\n",
       "       [2],\n",
       "       [3],\n",
       "       [4]])"
      ]
     },
     "execution_count": 244,
     "metadata": {},
     "output_type": "execute_result"
    }
   ],
   "source": [
    "y"
   ]
  },
  {
   "cell_type": "code",
   "execution_count": 246,
   "metadata": {},
   "outputs": [
    {
     "data": {
      "text/plain": [
       "array([[ 0,  1,  2,  3,  4],\n",
       "       [-1,  0,  1,  2,  3],\n",
       "       [-2, -1,  0,  1,  2],\n",
       "       [-3, -2, -1,  0,  1],\n",
       "       [-4, -3, -2, -1,  0]])"
      ]
     },
     "execution_count": 246,
     "metadata": {},
     "output_type": "execute_result"
    }
   ],
   "source": [
    "x-y"
   ]
  },
  {
   "cell_type": "markdown",
   "metadata": {},
   "source": [
    "### 4. Rerad data from a text file and Saving the array into file "
   ]
  },
  {
   "cell_type": "code",
   "execution_count": 36,
   "metadata": {},
   "outputs": [
    {
     "data": {
      "text/plain": [
       "array([[83, 81, 90, 87],\n",
       "       [83, 81, 90, 87],\n",
       "       [83, 81, 90, 87]])"
      ]
     },
     "execution_count": 36,
     "metadata": {},
     "output_type": "execute_result"
    }
   ],
   "source": [
    "arr = np.loadtxt('data.txt', skiprows=1,dtype=int, delimiter=\",\",comments = \"%\")\n",
    "arr"
   ]
  },
  {
   "cell_type": "code",
   "execution_count": 35,
   "metadata": {
    "collapsed": true
   },
   "outputs": [],
   "source": [
    "np.savetxt('data_1.txt', arr, delimiter=',', newline='  ', fmt = '%.0e', header='Marks')"
   ]
  },
  {
   "cell_type": "markdown",
   "metadata": {},
   "source": [
    "## 5. Broadcasting"
   ]
  },
  {
   "cell_type": "code",
   "execution_count": 4,
   "metadata": {},
   "outputs": [
    {
     "data": {
      "text/plain": [
       "array([[[ 0,  1,  2,  3,  4],\n",
       "        [ 5,  6,  7,  8,  9],\n",
       "        [10, 11, 12, 13, 14],\n",
       "        [15, 16, 17, 18, 19],\n",
       "        [20, 21, 22, 23, 24],\n",
       "        [25, 26, 27, 28, 29],\n",
       "        [30, 31, 32, 33, 34]],\n",
       "\n",
       "       [[35, 36, 37, 38, 39],\n",
       "        [40, 41, 42, 43, 44],\n",
       "        [45, 46, 47, 48, 49],\n",
       "        [50, 51, 52, 53, 54],\n",
       "        [55, 56, 57, 58, 59],\n",
       "        [60, 61, 62, 63, 64],\n",
       "        [65, 66, 67, 68, 69]]])"
      ]
     },
     "execution_count": 4,
     "metadata": {},
     "output_type": "execute_result"
    }
   ],
   "source": [
    "my_3D_arr = np.arange(70).reshape((2,7,5))\n",
    "my_3D_arr"
   ]
  },
  {
   "cell_type": "code",
   "execution_count": 5,
   "metadata": {},
   "outputs": [
    {
     "data": {
      "text/plain": [
       "3"
      ]
     },
     "execution_count": 5,
     "metadata": {},
     "output_type": "execute_result"
    }
   ],
   "source": [
    "my_3D_arr.ndim"
   ]
  },
  {
   "cell_type": "code",
   "execution_count": 6,
   "metadata": {},
   "outputs": [
    {
     "data": {
      "text/plain": [
       "array([[[ -3,   0,   3,   6,   9],\n",
       "        [ 12,  15,  18,  21,  24],\n",
       "        [ 27,  30,  33,  36,  39],\n",
       "        [ 42,  45,  48,  51,  54],\n",
       "        [ 57,  60,  63,  66,  69],\n",
       "        [ 72,  75,  78,  81,  84],\n",
       "        [ 87,  90,  93,  96,  99]],\n",
       "\n",
       "       [[102, 105, 108, 111, 114],\n",
       "        [117, 120, 123, 126, 129],\n",
       "        [132, 135, 138, 141, 144],\n",
       "        [147, 150, 153, 156, 159],\n",
       "        [162, 165, 168, 171, 174],\n",
       "        [177, 180, 183, 186, 189],\n",
       "        [192, 195, 198, 201, 204]]])"
      ]
     },
     "execution_count": 6,
     "metadata": {},
     "output_type": "execute_result"
    }
   ],
   "source": [
    "my_3D_arr * 3 - 3"
   ]
  },
  {
   "cell_type": "markdown",
   "metadata": {},
   "source": [
    "#### Arrays with smaller dimension are broadcasted to match the larger arrays without copying data."
   ]
  },
  {
   "cell_type": "code",
   "execution_count": 27,
   "metadata": {
    "scrolled": true
   },
   "outputs": [
    {
     "name": "stdout",
     "output_type": "stream",
     "text": [
      "[[ 0  1  2]\n",
      " [10 11 12]\n",
      " [20 21 22]\n",
      " [30 31 32]]\n",
      "[[ 0  1  2]\n",
      " [10 11 12]\n",
      " [20 21 22]\n",
      " [30 31 32]]\n",
      "[[ 0 10 20 30]\n",
      " [ 1 11 21 31]\n",
      " [ 2 12 22 32]]\n"
     ]
    }
   ],
   "source": [
    "a = np.arange(0,31,10)\n",
    "b = np.arange(0, 3)\n",
    "print(a[:, np.newaxis] + b)\n",
    "print(b[np.newaxis, :] + a[:, np.newaxis])\n",
    "print(a[np.newaxis, :] + b[:, np.newaxis])"
   ]
  },
  {
   "cell_type": "markdown",
   "metadata": {},
   "source": [
    "## Graphical View\n",
    "![Graphical example of numpy broadcasting](numpy_broadcasting.png)\n",
    "**[Source](http://www.scipy-lectures.org/_images/numpy_broadcasting.png)**"
   ]
  },
  {
   "cell_type": "code",
   "execution_count": 28,
   "metadata": {},
   "outputs": [
    {
     "data": {
      "text/plain": [
       "array([[4, 5],\n",
       "       [5, 6],\n",
       "       [6, 7]])"
      ]
     },
     "execution_count": 28,
     "metadata": {},
     "output_type": "execute_result"
    }
   ],
   "source": [
    "x = np.array([1, 2])\n",
    "y = np.array([3, 4, 5])\n",
    "z = x[np.newaxis, :] + y[:, np.newaxis]\n",
    "z"
   ]
  },
  {
   "cell_type": "markdown",
   "metadata": {},
   "source": [
    "### Point to be noted\n",
    "The trailing axes of either arrays must be 1 or both must have the same size for broadcasting to occur. Otherwise, a \n",
    "\"ValueError: shape mismatch: obj ects cannot be  exception is thrown. \n",
    "![warning](broadcastin_mismatch.png)"
   ]
  },
  {
   "cell_type": "markdown",
   "metadata": {},
   "source": [
    "### An application: Distance from center"
   ]
  },
  {
   "cell_type": "code",
   "execution_count": 43,
   "metadata": {},
   "outputs": [
    {
     "data": {
      "image/png": "[encoded data removed]",
      "text/plain": [
       "<matplotlib.figure.Figure at 0x2d114872cc0>"
      ]
     },
     "metadata": {},
     "output_type": "display_data"
    }
   ],
   "source": [
    "import matplotlib.pyplot as plt\n",
    "%matplotlib inline\n",
    "a = np.linspace(0, 1, 15) - 0.5\n",
    "b = a[:, np.newaxis] # b.shape == (15, 1)\n",
    "dist2 = a**2 + b**2 # broadcasting sum.\n",
    "dist = np.sqrt(dist2)\n",
    "plt.imshow(dist)\n",
    "plt.colorbar();"
   ]
  },
  {
   "cell_type": "code",
   "execution_count": 58,
   "metadata": {},
   "outputs": [
    {
     "data": {
      "text/plain": [
       "(array([ 0.        ,  0.07142857,  0.14285714,  0.21428571,  0.28571429,\n",
       "         0.35714286,  0.42857143,  0.5       ,  0.57142857,  0.64285714,\n",
       "         0.71428571,  0.78571429,  0.85714286,  0.92857143,  1.        ]),\n",
       " 0.07142857142857142)"
      ]
     },
     "execution_count": 58,
     "metadata": {},
     "output_type": "execute_result"
    }
   ],
   "source": [
    "x = np.linspace(0, 1, 15, retstep=True)\n",
    "x"
   ]
  },
  {
   "cell_type": "code",
   "execution_count": 67,
   "metadata": {},
   "outputs": [
    {
     "name": "stdout",
     "output_type": "stream",
     "text": [
      "(15, 1) (1, 15)\n"
     ]
    },
    {
     "data": {
      "text/plain": [
       "(array([[-0.5 ],\n",
       "        [-0.43],\n",
       "        [-0.36],\n",
       "        [-0.29],\n",
       "        [-0.22],\n",
       "        [-0.15],\n",
       "        [-0.08],\n",
       "        [-0.01],\n",
       "        [ 0.06],\n",
       "        [ 0.13],\n",
       "        [ 0.2 ],\n",
       "        [ 0.27],\n",
       "        [ 0.34],\n",
       "        [ 0.41],\n",
       "        [ 0.48]]),\n",
       " array([[-0.5 , -0.43, -0.36, -0.29, -0.22, -0.15, -0.08, -0.01,  0.06,\n",
       "          0.13,  0.2 ,  0.27,  0.34,  0.41,  0.48]]))"
      ]
     },
     "execution_count": 67,
     "metadata": {},
     "output_type": "execute_result"
    }
   ],
   "source": [
    "a, b = np.ogrid[0:1:0.07, 0:1:0.07]\n",
    "print(a.shape, b.shape)\n",
    "a -= 0.5\n",
    "b -= 0.5\n",
    "a, b"
   ]
  },
  {
   "cell_type": "code",
   "execution_count": 68,
   "metadata": {},
   "outputs": [
    {
     "data": {
      "image/png": "[encoded data removed]",
      "text/plain": [
       "<matplotlib.figure.Figure at 0x2d1136215c0>"
      ]
     },
     "metadata": {},
     "output_type": "display_data"
    }
   ],
   "source": [
    "dist2 = a**2 + b**2 # broadcasting sum.\n",
    "dist = np.sqrt(dist2)\n",
    "plt.imshow(dist)\n",
    "plt.colorbar();"
   ]
  },
  {
   "cell_type": "markdown",
   "metadata": {},
   "source": [
    "## 6. Structure & Record arrays\n",
    "Structured and record arrays are designed for heterogeneous data, while maintaining NumPy's requirement that every element in an array use the same amount of memory space."
   ]
  },
  {
   "cell_type": "code",
   "execution_count": 69,
   "metadata": {},
   "outputs": [
    {
     "data": {
      "text/plain": [
       "[('name', 'S6'), ('height', 'f8'), ('weight', 'f8'), ('age', 'i8')]"
      ]
     },
     "execution_count": 69,
     "metadata": {},
     "output_type": "execute_result"
    }
   ],
   "source": [
    "person_data_def = [('name','S6'),('height','f8'),('weight','f8'), ('age', 'i8')]\n",
    "person_data_def"
   ]
  },
  {
   "cell_type": "code",
   "execution_count": 70,
   "metadata": {},
   "outputs": [
    {
     "data": {
      "text/plain": [
       "array([(b'', 0.0, 0.0, 0), (b'', 0.0, 0.0, 0), (b'', 0.0, 0.0, 0),\n",
       "       (b'', 0.0, 0.0, 0)], \n",
       "      dtype=[('name', 'S6'), ('height', '<f8'), ('weight', '<f8'), ('age', '<i8')])"
      ]
     },
     "execution_count": 70,
     "metadata": {},
     "output_type": "execute_result"
    }
   ],
   "source": [
    "people_array = np.zeros((4,), dtype=person_data_def)\n",
    "people_array"
   ]
  },
  {
   "cell_type": "code",
   "execution_count": 71,
   "metadata": {},
   "outputs": [
    {
     "data": {
      "text/plain": [
       "array([(b'Alpha', 65.0, 112.0, 23), (b'', 0.0, 0.0, 0), (b'', 0.0, 0.0, 0),\n",
       "       (b'Delta', 73.0, 205.0, 34)], \n",
       "      dtype=[('name', 'S6'), ('height', '<f8'), ('weight', '<f8'), ('age', '<i8')])"
      ]
     },
     "execution_count": 71,
     "metadata": {},
     "output_type": "execute_result"
    }
   ],
   "source": [
    "people_array[3] = ('Delta', 73, 205, 34)\n",
    "people_array[0] = ('Alpha', 65, 112, 23)\n",
    "people_array"
   ]
  },
  {
   "cell_type": "code",
   "execution_count": 73,
   "metadata": {},
   "outputs": [
    {
     "data": {
      "text/plain": [
       "array([(b'Alpha', 65.0, 112.0, 23), (b'', 0.0, 0.0, 0)], \n",
       "      dtype=[('name', 'S6'), ('height', '<f8'), ('weight', '<f8'), ('age', '<i8')])"
      ]
     },
     "execution_count": 73,
     "metadata": {},
     "output_type": "execute_result"
    }
   ],
   "source": [
    "people_array[0::2]"
   ]
  },
  {
   "cell_type": "code",
   "execution_count": 76,
   "metadata": {},
   "outputs": [
    {
     "data": {
      "text/plain": [
       "array([23,  0,  0, 34], dtype=int64)"
      ]
     },
     "execution_count": 76,
     "metadata": {},
     "output_type": "execute_result"
    }
   ],
   "source": [
    "ages = people_array['age']\n",
    "ages"
   ]
  },
  {
   "cell_type": "code",
   "execution_count": 77,
   "metadata": {},
   "outputs": [
    {
     "data": {
      "text/plain": [
       "array([ 11.5,   0. ,   0. ,  17. ])"
      ]
     },
     "execution_count": 77,
     "metadata": {},
     "output_type": "execute_result"
    }
   ],
   "source": [
    "make_youthful = ages / 2\n",
    "make_youthful"
   ]
  },
  {
   "cell_type": "code",
   "execution_count": 78,
   "metadata": {},
   "outputs": [
    {
     "data": {
      "text/plain": [
       "array([(b'Alpha', 65.0, 112.0, 23), (b'', 0.0, 0.0, 0), (b'', 0.0, 0.0, 0),\n",
       "       (b'Delta', 73.0, 205.0, 34)], \n",
       "      dtype=[('name', 'S6'), ('height', '<f8'), ('weight', '<f8'), ('age', '<i8')])"
      ]
     },
     "execution_count": 78,
     "metadata": {},
     "output_type": "execute_result"
    }
   ],
   "source": [
    "people_array"
   ]
  },
  {
   "cell_type": "code",
   "execution_count": 79,
   "metadata": {},
   "outputs": [
    {
     "data": {
      "text/plain": [
       "array([23,  0,  0, 34], dtype=int64)"
      ]
     },
     "execution_count": 79,
     "metadata": {},
     "output_type": "execute_result"
    }
   ],
   "source": [
    "ages"
   ]
  },
  {
   "cell_type": "markdown",
   "metadata": {},
   "source": [
    "### Multidimentional Structed Array"
   ]
  },
  {
   "cell_type": "code",
   "execution_count": 80,
   "metadata": {},
   "outputs": [
    {
     "data": {
      "text/plain": [
       "array([[[(b'', 0.0, 0.0, 0), (b'', 0.0, 0.0, 0)],\n",
       "        [(b'', 0.0, 0.0, 0), (b'', 0.0, 0.0, 0)],\n",
       "        [(b'', 0.0, 0.0, 0), (b'', 0.0, 0.0, 0)]],\n",
       "\n",
       "       [[(b'', 0.0, 0.0, 0), (b'', 0.0, 0.0, 0)],\n",
       "        [(b'', 0.0, 0.0, 0), (b'', 0.0, 0.0, 0)],\n",
       "        [(b'', 0.0, 0.0, 0), (b'', 0.0, 0.0, 0)]],\n",
       "\n",
       "       [[(b'', 0.0, 0.0, 0), (b'', 0.0, 0.0, 0)],\n",
       "        [(b'', 0.0, 0.0, 0), (b'', 0.0, 0.0, 0)],\n",
       "        [(b'', 0.0, 0.0, 0), (b'', 0.0, 0.0, 0)]],\n",
       "\n",
       "       [[(b'', 0.0, 0.0, 0), (b'', 0.0, 0.0, 0)],\n",
       "        [(b'', 0.0, 0.0, 0), (b'', 0.0, 0.0, 0)],\n",
       "        [(b'', 0.0, 0.0, 0), (b'', 0.0, 0.0, 0)]]], \n",
       "      dtype=[('name', 'S6'), ('height', '<f8'), ('weight', '<f8'), ('age', '<i8')])"
      ]
     },
     "execution_count": 80,
     "metadata": {},
     "output_type": "execute_result"
    }
   ],
   "source": [
    "people_big_array = np.zeros((4,3,2), dtype=person_data_def)\n",
    "people_big_array"
   ]
  },
  {
   "cell_type": "code",
   "execution_count": 81,
   "metadata": {},
   "outputs": [
    {
     "data": {
      "text/plain": [
       "array([[[(b'', 0.0, 0.0, 0), (b'', 0.0, 0.0, 0)],\n",
       "        [(b'', 0.0, 0.0, 0), (b'', 0.0, 0.0, 0)],\n",
       "        [(b'', 0.0, 0.0, 0), (b'', 0.0, 0.0, 0)]],\n",
       "\n",
       "       [[(b'', 0.0, 0.0, 0), (b'', 0.0, 0.0, 0)],\n",
       "        [(b'', 0.0, 0.0, 0), (b'', 0.0, 0.0, 0)],\n",
       "        [(b'', 0.0, 0.0, 0), (b'', 0.0, 0.0, 0)]],\n",
       "\n",
       "       [[(b'', 0.0, 0.0, 0), (b'', 0.0, 0.0, 0)],\n",
       "        [(b'', 0.0, 0.0, 0), (b'', 0.0, 0.0, 0)],\n",
       "        [(b'', 0.0, 0.0, 0), (b'', 0.0, 0.0, 0)]],\n",
       "\n",
       "       [[(b'', 0.0, 0.0, 0), (b'', 0.0, 0.0, 0)],\n",
       "        [(b'', 0.0, 0.0, 0), (b'', 0.0, 0.0, 0)],\n",
       "        [(b'', 0.0, 0.0, 0), (b'Echo', 68.0, 155.0, 46)]]], \n",
       "      dtype=[('name', 'S6'), ('height', '<f8'), ('weight', '<f8'), ('age', '<i8')])"
      ]
     },
     "execution_count": 81,
     "metadata": {},
     "output_type": "execute_result"
    }
   ],
   "source": [
    "people_big_array[3,2,1] = ('Echo', 68, 155, 46)\n",
    "people_big_array"
   ]
  },
  {
   "cell_type": "code",
   "execution_count": 82,
   "metadata": {},
   "outputs": [
    {
     "data": {
      "text/plain": [
       "array([[[  0.,   0.],\n",
       "        [  0.,   0.],\n",
       "        [  0.,   0.]],\n",
       "\n",
       "       [[  0.,   0.],\n",
       "        [  0.,   0.],\n",
       "        [  0.,   0.]],\n",
       "\n",
       "       [[  0.,   0.],\n",
       "        [  0.,   0.],\n",
       "        [  0.,   0.]],\n",
       "\n",
       "       [[  0.,   0.],\n",
       "        [  0.,   0.],\n",
       "        [  0.,  68.]]])"
      ]
     },
     "execution_count": 82,
     "metadata": {},
     "output_type": "execute_result"
    }
   ],
   "source": [
    "people_big_array['height']"
   ]
  },
  {
   "cell_type": "code",
   "execution_count": 83,
   "metadata": {},
   "outputs": [
    {
     "data": {
      "text/plain": [
       "array([[[(0.0, 0.0), (0.0, 0.0)],\n",
       "        [(0.0, 0.0), (0.0, 0.0)],\n",
       "        [(0.0, 0.0), (0.0, 0.0)]],\n",
       "\n",
       "       [[(0.0, 0.0), (0.0, 0.0)],\n",
       "        [(0.0, 0.0), (0.0, 0.0)],\n",
       "        [(0.0, 0.0), (0.0, 0.0)]],\n",
       "\n",
       "       [[(0.0, 0.0), (0.0, 0.0)],\n",
       "        [(0.0, 0.0), (0.0, 0.0)],\n",
       "        [(0.0, 0.0), (0.0, 0.0)]],\n",
       "\n",
       "       [[(0.0, 0.0), (0.0, 0.0)],\n",
       "        [(0.0, 0.0), (0.0, 0.0)],\n",
       "        [(0.0, 0.0), (68.0, 155.0)]]], \n",
       "      dtype=[('height', '<f8'), ('weight', '<f8')])"
      ]
     },
     "execution_count": 83,
     "metadata": {},
     "output_type": "execute_result"
    }
   ],
   "source": [
    "people_big_array[['height', 'weight']]"
   ]
  },
  {
   "cell_type": "markdown",
   "metadata": {},
   "source": [
    "### Creating Record Arrays"
   ]
  },
  {
   "cell_type": "code",
   "execution_count": 84,
   "metadata": {},
   "outputs": [
    {
     "data": {
      "text/plain": [
       "rec.array([(b'Delta', 73.0, 205.0, 34), (b'Alpha', 65.0, 112.0, 23)], \n",
       "          dtype=[('name', 'S6'), ('height', '<f8'), ('weight', '<f8'), ('age', '<i8')])"
      ]
     },
     "execution_count": 84,
     "metadata": {},
     "output_type": "execute_result"
    }
   ],
   "source": [
    "person_record_array = np.rec.array([('Delta', 73, 205, 34),('Alpha', 65, 112, 23)],dtype=person_data_def)\n",
    "person_record_array"
   ]
  },
  {
   "cell_type": "code",
   "execution_count": 85,
   "metadata": {},
   "outputs": [
    {
     "data": {
      "text/plain": [
       "34"
      ]
     },
     "execution_count": 85,
     "metadata": {},
     "output_type": "execute_result"
    }
   ],
   "source": [
    "person_record_array[0].age"
   ]
  },
  {
   "cell_type": "code",
   "execution_count": 86,
   "metadata": {},
   "outputs": [
    {
     "data": {
      "text/plain": [
       "array([34, 23], dtype=int64)"
      ]
     },
     "execution_count": 86,
     "metadata": {},
     "output_type": "execute_result"
    }
   ],
   "source": [
    "person_record_array.age"
   ]
  },
  {
   "cell_type": "code",
   "execution_count": null,
   "metadata": {
    "collapsed": true
   },
   "outputs": [],
   "source": []
  }
 ],
 "metadata": {
  "kernelspec": {
   "display_name": "Python 3",
   "language": "python",
   "name": "python3"
  },
  "language_info": {
   "codemirror_mode": {
    "name": "ipython",
    "version": 3
   },
   "file_extension": ".py",
   "mimetype": "text/x-python",
   "name": "python",
   "nbconvert_exporter": "python",
   "pygments_lexer": "ipython3",
   "version": "3.8.5"
  }
 },
 "nbformat": 4,
 "nbformat_minor": 2
}
